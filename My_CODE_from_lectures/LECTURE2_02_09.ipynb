{
 "cells": [
  {
   "cell_type": "code",
   "execution_count": 3,
   "id": "02713f89",
   "metadata": {},
   "outputs": [],
   "source": [
    "from abc import ABC, abstractmethod\n",
    "\n",
    "class Animal(ABC):\n",
    "    \n",
    "    #concrete method\n",
    "    #inherited\n",
    "    def sleep(self):\n",
    "        print(\"i am going to sleep for a while\")\n",
    "    \n",
    "    @abstractmethod\n",
    "    def sound(self):\n",
    "        print(\"this function is for defining the sound by any animal\")\n",
    "\n",
    "#subclasses or child classes\n",
    "class Snake(Animal):\n",
    "    def sound(self):\n",
    "        print(\"i can hiss\")\n",
    "\n",
    "class Dog(Animal):\n",
    "    def sound(self):\n",
    "        print(\"i can bark\")\n",
    "\n",
    "class Lion(Animal):\n",
    "    def sound(self):\n",
    "        print(\"i can roar\")\n",
    "\n",
    "class Cat(Animal):\n",
    "    def sound(self):\n",
    "        print(\"I can meow\")\n",
    "\n",
    "    \n",
    "\n",
    "    "
   ]
  },
  {
   "cell_type": "code",
   "execution_count": 4,
   "id": "7941120e",
   "metadata": {},
   "outputs": [
    {
     "name": "stdout",
     "output_type": "stream",
     "text": [
      "i am going to sleep for a while\n",
      "I can meow\n",
      "i am going to sleep for a while\n",
      "i can hiss\n"
     ]
    }
   ],
   "source": [
    "c = Cat()\n",
    "c.sleep()\n",
    "c.sound()\n",
    "\n",
    "c = Snake()\n",
    "c.sleep()\n",
    "c.sound()"
   ]
  },
  {
   "cell_type": "code",
   "execution_count": 5,
   "id": "c5de30a5",
   "metadata": {},
   "outputs": [
    {
     "name": "stdout",
     "output_type": "stream",
     "text": [
      "this function is for defining the sound by any animal\n",
      "i can squeak\n"
     ]
    }
   ],
   "source": [
    "class Rabbit(Animal):\n",
    "    def sound(self):\n",
    "        super().sound()\n",
    "        print(\"i can squeak\")\n",
    "\n",
    "c = Rabbit()\n",
    "c.sound()"
   ]
  },
  {
   "cell_type": "code",
   "execution_count": 9,
   "id": "21682017",
   "metadata": {},
   "outputs": [
    {
     "name": "stdout",
     "output_type": "stream",
     "text": [
      "i am going to sleep for a while\n"
     ]
    }
   ],
   "source": [
    "class Deer(Animal):\n",
    "    def sound(self):\n",
    "        pass\n",
    "\n",
    "c = Deer()\n",
    "c.sound()\n",
    "c.sleep()"
   ]
  },
  {
   "cell_type": "code",
   "execution_count": 39,
   "id": "4496cd9d",
   "metadata": {},
   "outputs": [
    {
     "name": "stdout",
     "output_type": "stream",
     "text": [
      "Hello Parent\n",
      "Hello child\n"
     ]
    }
   ],
   "source": [
    "#Single inheritance example\n",
    "\n",
    "class parent:           #parent class\n",
    "    def func1(self):\n",
    "        print(\"Hello Parent\")\n",
    "        \n",
    "class child(parent):     \n",
    "    def func2(self):\n",
    "        print(\"Hello child\")\n",
    "                        \n",
    "                        \n",
    "\n",
    "test = child()             \n",
    "test.func1()                \n",
    "test.func2()                "
   ]
  },
  {
   "cell_type": "code",
   "execution_count": 27,
   "id": "3615271d",
   "metadata": {},
   "outputs": [
    {
     "name": "stdout",
     "output_type": "stream",
     "text": [
      "Hello parent1\n",
      "hello parent2\n",
      "Hello Child\n"
     ]
    }
   ],
   "source": [
    "#python 3 syntax\n",
    "#multiple inheritance example\n",
    "\n",
    "class parent1:  #first parent class\n",
    "    def func1(self):\n",
    "        print(\"Hello parent1\")\n",
    "\n",
    "class parent2: #second parent class\n",
    "    def func2(self):\n",
    "        print(\"hello parent2\")\n",
    "\n",
    "class parent3: #third parent class\n",
    "    def func2(self):  #the function name is same as parent2\n",
    "        print(\"hello Parent3\")\n",
    "\n",
    "class child(parent1, parent2, parent3): \n",
    "    def func3(self):\n",
    "        print(\"Hello Child\")\n",
    "test = child() #object created\n",
    "test.func1() \n",
    "test.func2()\n",
    "test.func3()"
   ]
  },
  {
   "cell_type": "code",
   "execution_count": 37,
   "id": "0698b0fb",
   "metadata": {},
   "outputs": [
    {
     "name": "stdout",
     "output_type": "stream",
     "text": [
      "True\n",
      "False\n",
      "True\n",
      "True\n",
      "False\n",
      "True\n"
     ]
    }
   ],
   "source": [
    "#issubclass() and isinstance() example\n",
    "\n",
    "class parent:\n",
    "    def func1():\n",
    "        print(\"Hello parent\")\n",
    "\n",
    "class child(parent):\n",
    "    def func2():\n",
    "        print(\"Hello Child\")\n",
    "\n",
    "print(issubclass(child, parent)) #checks if child is subclass of parent\"\n",
    "print(issubclass(parent,child))  #checks if parent is subclass of child\n",
    "\n",
    "A = child()     #objects initiated\n",
    "B = parent()\n",
    "\n",
    "print(isinstance(A,child))  #checks if A is instance of child\n",
    "print(isinstance(A, parent)) #checks if A is instance of parent\n",
    "print(isinstance(B,child))  #checks if B is instance of child\n",
    "print(isinstance(B,parent)) #checks if B is instance of parent"
   ]
  },
  {
   "cell_type": "code",
   "execution_count": 43,
   "id": "7e5e7819",
   "metadata": {},
   "outputs": [
    {
     "name": "stdout",
     "output_type": "stream",
     "text": [
      "circle\n",
      "153.93804002589985\n",
      "I am a two diemnsional shape.\n"
     ]
    }
   ],
   "source": [
    "from math import pi\n",
    "class Shape:\n",
    "    \n",
    "    def __init__(self,name):\n",
    "        self.name=name\n",
    "        \n",
    "    def area(self):\n",
    "        pass\n",
    "    \n",
    "    def fact(self):\n",
    "        return \"I am a two diemnsional shape.\"\n",
    "    \n",
    "\n",
    "    def __str__(self):\n",
    "        return self.name\n",
    "\n",
    "class Circle(Shape):\n",
    "    \n",
    "    def __init__(self,radius):\n",
    "        super().__init__(\"circle\")\n",
    "        self.radius= radius\n",
    "    \n",
    "    def area(self):\n",
    "        return pi*self.radius**2\n",
    "\n",
    "shape_circle=Circle(7)\n",
    "\n",
    "class Square(Shape):\n",
    "    def __init__(self,radius):\n",
    "        super().__init__(\"Square\")\n",
    "        self.radius=radius\n",
    "\n",
    "print(shape_circle)\n",
    "print(shape_circle.area())\n",
    "print(shape_circle.fact())"
   ]
  },
  {
   "cell_type": "code",
   "execution_count": null,
   "id": "50efdf74",
   "metadata": {},
   "outputs": [],
   "source": []
  }
 ],
 "metadata": {
  "kernelspec": {
   "display_name": "Python 3 (ipykernel)",
   "language": "python",
   "name": "python3"
  },
  "language_info": {
   "codemirror_mode": {
    "name": "ipython",
    "version": 3
   },
   "file_extension": ".py",
   "mimetype": "text/x-python",
   "name": "python",
   "nbconvert_exporter": "python",
   "pygments_lexer": "ipython3",
   "version": "3.9.7"
  }
 },
 "nbformat": 4,
 "nbformat_minor": 5
}
